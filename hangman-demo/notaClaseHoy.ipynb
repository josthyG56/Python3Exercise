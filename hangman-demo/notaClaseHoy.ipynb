{
  "cells": [
    {
      "cell_type": "markdown",
      "metadata": {
        "id": "T1odRMO_I5f0"
      },
      "source": [
        "# HAGNMAN   \n",
        "\n",
        "randomlist.com/data/words.json\n",
        "\n",
        "1. PEDIR LA PALABRA (MAQUINA ESCOJA LA PALABRA)\n",
        "2. INGRESAR LETRA\n",
        "3. SI ACIERTA SE COMPLETA UN ESPACIO O TIENE UN ACIERTO\n",
        "4. SI SE EQUIVOCA PIERDE UNA VIDA\n",
        "5. SI ACIERTA TODAS LA LETRAS GANA"
      ]
    },
    {
      "cell_type": "code",
      "execution_count": 17,
      "metadata": {
        "colab": {
          "base_uri": "https://localhost:8080/",
          "height": 54
        },
        "id": "GpqV4O2qI5f9",
        "outputId": "56af9ceb-34a4-4737-e87b-c996eda257c8"
      },
      "outputs": [
        {
          "name": "stdout",
          "output_type": "stream",
          "text": [
            "['aback', 'abaft', 'abandoned', 'abashed', 'aberrant']\n"
          ]
        },
        {
          "data": {
            "text/plain": [
              "'ABERRANT'"
            ]
          },
          "execution_count": 17,
          "metadata": {},
          "output_type": "execute_result"
        }
      ],
      "source": [
        "import random\n",
        "from words import words\n",
        "\n",
        "print(words[0:5])\n",
        "\n",
        "\n",
        "def get_valid_word(words):\n",
        "  word = random.choice(words)\n",
        "  return word.upper()\n",
        "\n",
        "get_valid_word(words[0:5])\n"
      ]
    },
    {
      "cell_type": "code",
      "execution_count": 18,
      "metadata": {
        "colab": {
          "base_uri": "https://localhost:8080/"
        },
        "id": "7ZzuygQJI5f8",
        "outputId": "5eaf92f6-25a3-490a-b9ba-58b2034cb134"
      },
      "outputs": [
        {
          "name": "stdout",
          "output_type": "stream",
          "text": [
            "Hoy es: cats\n",
            "certain\n"
          ]
        }
      ],
      "source": [
        "import random\n",
        "print(\"Hoy es:\", words[random.randint(0, len(words) - 1)])\n",
        "\n",
        "print(words[random.randint(0, len(words) - 1)])"
      ]
    },
    {
      "cell_type": "code",
      "execution_count": 19,
      "metadata": {
        "colab": {
          "base_uri": "https://localhost:8080/",
          "height": 36
        },
        "id": "VVTEfJ1oI5f-",
        "outputId": "b1301338-5ad4-46cf-9c7d-159faaa66eac"
      },
      "outputs": [
        {
          "data": {
            "text/plain": [
              "'ABACK'"
            ]
          },
          "execution_count": 19,
          "metadata": {},
          "output_type": "execute_result"
        }
      ],
      "source": [
        "get_valid_word(words[0:5])"
      ]
    },
    {
      "cell_type": "code",
      "execution_count": null,
      "metadata": {
        "colab": {
          "base_uri": "https://localhost:8080/"
        },
        "id": "XF10iwMYK-zH",
        "outputId": "9fbd03bb-ed73-49a4-adcf-9366d9c51b7c"
      },
      "outputs": [
        {
          "name": "stdout",
          "output_type": "stream",
          "text": [
            "['A', 'B', 'C', 'D', 'E', 'F', 'A', 'B', 'C', 'D', 'E', 'F']\n",
            "{'E', 'A', 'D', 'F', 'B', 'C'}\n"
          ]
        }
      ],
      "source": [
        "letters = \"ABCDEFABCDEF\"\n",
        "print(list(letters))\n",
        "print(set(letters))"
      ]
    },
    {
      "cell_type": "code",
      "execution_count": null,
      "metadata": {
        "colab": {
          "base_uri": "https://localhost:8080/"
        },
        "id": "yHXdAxA3OSxk",
        "outputId": "fb8088ac-c40e-4b72-e4b0-cba0b97ad63d"
      },
      "outputs": [
        {
          "name": "stdout",
          "output_type": "stream",
          "text": [
            "{'c', 'd', 'e'}\n"
          ]
        }
      ],
      "source": [
        "letter_A = {'a', 'b', 'c', 'd', 'e'}\n",
        "\n",
        "letter_B = {'a', 'b'}\n",
        "\n",
        "print(letter_A - letter_B)"
      ]
    },
    {
      "cell_type": "markdown",
      "metadata": {
        "id": "u6j2XU0xL8lO"
      },
      "source": [
        "### Ejercicio de HangMan"
      ]
    },
    {
      "cell_type": "code",
      "execution_count": null,
      "metadata": {},
      "outputs": [
        {
          "name": "stdout",
          "output_type": "stream",
          "text": [
            "Welcome to Hangman!\n",
            "Guess the word letter by letter.\n",
            "You have a limited number of lives depending on the difficulty level.\n",
            "Good luck!\n",
            "Disclaimer: This code does not appear in the game: BLUSHING\n",
            "\n",
            "Current word: _ _ _ _ _ _ _ _\n",
            "Correct letters:  \n",
            "Incorrect letters:  \n",
            "Lives remaining: 💖💖💖💖💖💖\n",
            "\n",
            "Current word: B _ _ _ _ _ _ _\n",
            "Correct letters:  \n",
            "Incorrect letters:  B\n",
            "Lives remaining: 💖💖💖💖💖💖\n",
            "You lose a live master chief!!! 😵👀\n",
            "\n",
            "Current word: B _ _ _ _ _ _ _\n",
            "Correct letters:  \n",
            "Incorrect letters:  B A\n",
            "Lives remaining: 💖💖💖💖💖💀\n",
            "The letter has been used, please try again.\n",
            "\n",
            "Current word: B _ _ _ _ _ _ _\n",
            "Correct letters:  \n",
            "Incorrect letters:  B A\n",
            "Lives remaining: 💖💖💖💖💖💀\n",
            "\n",
            "Current word: B _ _ S _ _ _ _\n",
            "Correct letters:  \n",
            "Incorrect letters:  B S A\n",
            "Lives remaining: 💖💖💖💖💖💀\n",
            "\n",
            "Current word: B _ _ S H _ _ _\n",
            "Correct letters:  \n",
            "Incorrect letters:  H B S A\n",
            "Lives remaining: 💖💖💖💖💖💀\n",
            "\n",
            "Current word: B _ _ S H I _ _\n",
            "Correct letters:  \n",
            "Incorrect letters:  B I H S A\n",
            "Lives remaining: 💖💖💖💖💖💀\n",
            "\n",
            "Current word: B _ _ S H I _ G\n",
            "Correct letters:  \n",
            "Incorrect letters:  G B I H S A\n",
            "Lives remaining: 💖💖💖💖💖💀\n",
            "\n",
            "Current word: B _ U S H I _ G\n",
            "Correct letters:  \n",
            "Incorrect letters:  G B I H S A U\n",
            "Lives remaining: 💖💖💖💖💖💀\n",
            "\n",
            "Current word: B L U S H I _ G\n",
            "Correct letters:  \n",
            "Incorrect letters:  G B I L H S A U\n",
            "Lives remaining: 💖💖💖💖💖💀\n",
            "You win! The word is: 😒 BLUSHING\n"
          ]
        }
      ],
      "source": [
        "import random\n",
        "import string\n",
        "from words import words\n",
        "import pickle\n",
        "\n",
        "def get_valid_word(words):\n",
        "    return random.choice(words).upper()\n",
        "\n",
        "def display_used_letters(used_letters, word_letters):\n",
        "    correct = [letter for letter in used_letters if letter in word_letters]\n",
        "    incorrect = [letter for letter in used_letters if letter not in word_letters]\n",
        "    print(\"Correct letters: \", ' '.join(correct))\n",
        "    print(\"Incorrect letters: \", ' '.join(incorrect))\n",
        "\n",
        "def display_lives(lives):\n",
        "    print(f\"Lives remaining: {'💖' * lives}{'💀' * (6 - lives)}\")\n",
        "\n",
        "def choose_difficulty():\n",
        "    difficulties = {'easy': 10, 'medium': 6, 'hard': 4}\n",
        "    choice = input(\"Choose difficulty (easy/medium/hard): \").lower()\n",
        "    return difficulties.get(choice, 6)\n",
        "\n",
        "def welcome_message():\n",
        "    print(\"Welcome to Hangman!\")\n",
        "    print(\"Guess the word letter by letter.\")\n",
        "    print(\"You have a limited number of lives depending on the difficulty level.\")\n",
        "    print(\"Good luck!\")\n",
        "\n",
        "def save_game(state, filename=\"hangman_save.pkl\"):\n",
        "    with open(filename, 'wb') as f:\n",
        "        pickle.dump(state, f)\n",
        "\n",
        "def load_game(filename=\"hangman_save.pkl\"):\n",
        "    try:\n",
        "        with open(filename, 'rb') as f:\n",
        "            return pickle.load(f)\n",
        "    except FileNotFoundError:\n",
        "        print(\"No saved game found.\")\n",
        "        return None\n",
        "\n",
        "def hangman():\n",
        "    welcome_message()\n",
        "    lives = choose_difficulty()\n",
        "    word = get_valid_word(words)\n",
        "    print('Disclaimer: This code does not appear in the game:', word)\n",
        "    word_letters = set(word)\n",
        "    alphabet = set(string.ascii_uppercase)\n",
        "    used_letters = set()\n",
        "\n",
        "    while len(word_letters) > 0 and lives > 0:\n",
        "        word_list = [letter if letter in used_letters else \"_\" for letter in word]\n",
        "        print('\\nCurrent word:', ' '.join(word_list))\n",
        "        display_used_letters(used_letters, word_letters)\n",
        "        display_lives(lives)\n",
        "\n",
        "        user_letter = input(\"Guess a letter: \").upper()\n",
        "        if user_letter in alphabet - used_letters:\n",
        "            used_letters.add(user_letter)\n",
        "            if user_letter in word_letters:\n",
        "                word_letters.remove(user_letter)\n",
        "            else:\n",
        "                lives -= 1\n",
        "                print(\"You lose a live master chief!!! 😵👀\")\n",
        "\n",
        "        elif user_letter in used_letters:\n",
        "            print(\"The letter has been used, please try again.\")\n",
        "\n",
        "        else:\n",
        "            print(\"Invalid character.\")\n",
        "\n",
        "    if lives == 0:\n",
        "        print(\"The word was:\", word, \"you are a loser with uppercase L 🤣\")\n",
        "    else:\n",
        "        print(\"You win! The word is: 😒\", word)\n",
        "\n",
        "if __name__ == \"__main__\":\n",
        "    hangman()"
      ]
    }
  ],
  "metadata": {
    "colab": {
      "provenance": []
    },
    "kernelspec": {
      "display_name": "Python 3",
      "language": "python",
      "name": "python3"
    },
    "language_info": {
      "codemirror_mode": {
        "name": "ipython",
        "version": 3
      },
      "file_extension": ".py",
      "mimetype": "text/x-python",
      "name": "python",
      "nbconvert_exporter": "python",
      "pygments_lexer": "ipython3",
      "version": "3.12.2"
    }
  },
  "nbformat": 4,
  "nbformat_minor": 0
}
