{
 "cells": [
  {
   "cell_type": "markdown",
   "metadata": {},
   "source": [
    "# Programando con Python I 💪🐍\n",
    "\n",
    "Codificar los siguientes programas con Python y colocar el enlace de su código (Github ó Google Drive). **Fecha Límite 21/ABR/2024 23:59:59**. Nota: Antes de copiar favor de intentarlo por su cuenta **por lo menos una vez**😑"
   ]
  },
  {
   "cell_type": "markdown",
   "metadata": {},
   "source": [
    "### Ejercicio #1\n",
    "\n",
    "En una determinada empresa, sus empleados son evaluados cada seis meses. Los puntos que pueden obtener en la evaluación comienzan en 0 y pueden ir aumentando hasta llegar a 10, traduciéndose en mejores beneficios (al final del problema se muestra una tabla con los niveles correspondientes a cada puntuación). La cantidad de dinero conseguida en cada nivel se calcula multiplicando el \"salario mensual\" por la división de la \"puntuación del nivel\" dividida entre \"10\". \n",
    "\n",
    "Escribir un programa que lea la puntuación del usuario y su salario mensual e imprima su nivel de rendimiento, así como la cantidad de dinero que recibirá el usuario. \n",
    "\n",
    "**Ejemplo:**\n",
    "\n",
    "Salario =  **10,000**\n",
    "Puntuación = **8**  \n",
    "Dinero = 10,000 * (8/10) = **8000.**  \n",
    "Resultado =  Nivel de Rendimiento \"**Meritorio**\", Cantidad de Dinero Recibido **$8000**\n",
    "\n",
    "**NIVEL** --------------------------------- **PUNTUACIÓN**  \n",
    "Inaceptable ------------------------   0 a 3  \n",
    "Aceptable ---------------------------  4 a 6  \n",
    "Meritorio -----------------------------  7 a 10"
   ]
  },
  {
   "cell_type": "code",
   "execution_count": 6,
   "metadata": {},
   "outputs": [],
   "source": [
    "def calcular_rendimiento(puntuacion):\n",
    "    if puntuacion >= 7 and puntuacion <= 10:\n",
    "        return \"Meritorio\"\n",
    "    elif puntuacion >= 4 and puntuacion <= 6:\n",
    "        return \"Aceptable\"\n",
    "    else:\n",
    "        return \"Inaceptable\"\n",
    "\n",
    "def calcular_dinero(salario, puntuacion):\n",
    "    return salario * (puntuacion / 10)\n",
    "\n",
    "def registro():\n",
    "    print(\"Ingresa el nombre:\")\n",
    "    nombre = input()\n",
    "    print(\"Ingresa los apellidos:\")\n",
    "    apellidos = input()\n",
    "    print(\"Ingresa la edad:\")\n",
    "    edad = int(input())  \n",
    "    print(\"Ingresa el sueldo mensual:\")\n",
    "    salario = float(input())  \n",
    "\n",
    "    print(\"Ingresa la puntuación:\")\n",
    "    puntuacion = int(input())   \n",
    "\n",
    "    nivel_rendimiento = calcular_rendimiento(puntuacion)\n",
    "    cantidad_dinero = calcular_dinero(salario, puntuacion)\n",
    "\n",
    "    print(f\"Nivel de Rendimiento: {nivel_rendimiento}, Cantidad de Dinero Recibido: ${cantidad_dinero}\")\n",
    "\n",
    "def main(): \n",
    "    registro()\n",
    "    print(\"Gracias por participar.\")\n",
    "\n",
    "if __name__ == \"__main__\":\n",
    "    main()"
   ]
  },
  {
   "cell_type": "markdown",
   "metadata": {},
   "source": []
  },
  {
   "cell_type": "markdown",
   "metadata": {},
   "source": [
    "## Ejercicio #2\n",
    "\n",
    "Escribir el código que permita convertir una candad N a monedas. Usar monedas de $20, $10, $5, $1. Importante considerar que la cantidad es un valor entero. También se solicita imprimir los mensajes correspondientes. Deberá incluir comentarios en su código para indicar a otros programadores su proceder (sin abusar 🤔).\n",
    "\n",
    "Ejemplo:\n",
    "\n",
    "Entrada:\n",
    "Cantidad a Convertir : 397\n",
    "\n",
    "Salida:  \n",
    "Monedas de $20: 19  \n",
    "Monedas de $10: 1  \n",
    "Monedas de $5: 1  \n",
    "Monedas de $1: 2"
   ]
  },
  {
   "cell_type": "markdown",
   "metadata": {},
   "source": []
  },
  {
   "cell_type": "code",
   "execution_count": null,
   "metadata": {},
   "outputs": [],
   "source": [
    "def convertir_a_monedas(cantidad):\n",
    "    # Calculamos la cantidad de monedas de $20\n",
    "    monedas_20 = cantidad // 20\n",
    "    # Restamos el valor de las monedas de $20 del total\n",
    "    cantidad -= monedas_20 * 20\n",
    "\n",
    "    monedas_10 = cantidad // 10\n",
    "    cantidad -= monedas_10 * 10\n",
    "\n",
    "    monedas_5 = cantidad // 5\n",
    "    cantidad -= monedas_5 * 5\n",
    "\n",
    "    monedas_1 = cantidad\n",
    "\n",
    "    # Imprimimos el resultado\n",
    "    print(\"Monedas de $20:\", monedas_20)\n",
    "    print(\"Monedas de $10:\", monedas_10)\n",
    "    print(\"Monedas de $5:\", monedas_5)\n",
    "    print(\"Monedas de $1:\", monedas_1)\n",
    "\n",
    "# Pedimos la N cantidad de monedas al usuario\n",
    "N_cantidad = int(input(\"Cantidad a Convertir: \"))\n",
    "\n",
    "# Llamamos a la función para realizar la conversión\n",
    "convertir_a_monedas(N_cantidad)\n"
   ]
  },
  {
   "cell_type": "markdown",
   "metadata": {},
   "source": [
    "# Ejercicio #3\n",
    "\n",
    "Escribir un programa que pregunte al usuario una cantidad a invertir, el interés porcentual anual y el número de años. Muestre el capital obtenido de la inversión cada año que dura la inversión.\n",
    "\n",
    "Ejemplo\n",
    "\n",
    "Entrada:\n",
    "¿Cantidad a invertir?: 1000\n",
    "¿Interés porcentual anual?: 10\n",
    "¿Años?: 5\n",
    "\n",
    "Salida:\n",
    "Capital tras 1 año: 1100.0  \n",
    "Capital tras 2 años: 1210.0  \n",
    "Capital tras 3 años: 1331.0  \n",
    "Capital tras 4 años: 1464.1  \n",
    "Capital tras 5 años: 1610.51\n"
   ]
  },
  {
   "cell_type": "code",
   "execution_count": null,
   "metadata": {},
   "outputs": [],
   "source": [
    "def calcular_capital(cantidad, interes, años):\n",
    "    capital = cantidad\n",
    "    for i in range(1, años + 1):\n",
    "        capital += capital * (interes / 100)\n",
    "        print(f\"Capital tras {i} año(s): {capital:.2f}\")\n",
    "\n",
    "# Pedir entrada al usuario\n",
    "cantidad_a_invertir = float(input(\"¿Cantidad a invertir?: \"))\n",
    "interes_anual = float(input(\"¿Interés porcentual anual?: \"))\n",
    "años = int(input(\"¿Años?: \"))\n",
    "\n",
    "# Llamar a la función para calcular el capital\n",
    "calcular_capital(cantidad_a_invertir, interes_anual, años)"
   ]
  }
 ],
 "metadata": {
  "kernelspec": {
   "display_name": "Python 3",
   "language": "python",
   "name": "python3"
  },
  "language_info": {
   "codemirror_mode": {
    "name": "ipython",
    "version": 3
   },
   "file_extension": ".py",
   "mimetype": "text/x-python",
   "name": "python",
   "nbconvert_exporter": "python",
   "pygments_lexer": "ipython3",
   "version": "3.12.2"
  }
 },
 "nbformat": 4,
 "nbformat_minor": 2
}
