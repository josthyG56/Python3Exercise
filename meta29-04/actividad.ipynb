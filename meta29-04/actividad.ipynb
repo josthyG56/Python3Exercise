{
 "cells": [
  {
   "cell_type": "markdown",
   "metadata": {},
   "source": [
    "# Programando con Python II   💪🐍\n",
    "###### Codificar el siguiente programa con Python y colocar el enlace de su código (Github ó Google Drive). Fecha Límite **29/ABR/2024 19:59:59. Nota:** Antes de copiar favor de intentarlo por su cuenta por lo menos una vez 😑"
   ]
  },
  {
   "cell_type": "code",
   "execution_count": 2,
   "metadata": {},
   "outputs": [
    {
     "name": "stdout",
     "output_type": "stream",
     "text": [
      "Original: ['uno', 'dos', '3', '2', '1']\n",
      "Mezcladas: ['3', 'dos', 'uno', '2', '1']\n"
     ]
    }
   ],
   "source": [
    "import random\n",
    "\n",
    "def mezclar(lista):\n",
    "    lista_mezclada = list(lista)\n",
    "    for i in range(len(lista_mezclada) - 1, 0, -1):\n",
    "        j = random.randint(0, i)\n",
    "        lista_mezclada[i], lista_mezclada[j] = lista_mezclada[j], lista_mezclada[i]\n",
    "    return lista_mezclada\n",
    "\n",
    "palabras = input(\"Ingresa las palabras separadas por espacios: \").split()\n",
    "\n",
    "print(f\"Original: {palabras}\")\n",
    "\n",
    "palabras_mezcladas = mezclar(palabras)\n",
    "print(f\"Mezcladas: {palabras_mezcladas}\")"
   ]
  }
 ],
 "metadata": {
  "kernelspec": {
   "display_name": "Python 3",
   "language": "python",
   "name": "python3"
  },
  "language_info": {
   "codemirror_mode": {
    "name": "ipython",
    "version": 3
   },
   "file_extension": ".py",
   "mimetype": "text/x-python",
   "name": "python",
   "nbconvert_exporter": "python",
   "pygments_lexer": "ipython3",
   "version": "3.12.2"
  }
 },
 "nbformat": 4,
 "nbformat_minor": 2
}
