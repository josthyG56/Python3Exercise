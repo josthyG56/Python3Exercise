{
 "cells": [
  {
   "cell_type": "markdown",
   "metadata": {},
   "source": [
    "# Second Attempt Python Script 🔢🐍\n",
    "\n",
    "### Crea un script en python que ejemplifique el juego de **Adivinar el Número Inverso**, donde el usuario piense un número y la computadora lo adivine, dar pistas para que se acerque al resultado ya sea **\"meno o mayor\"** o inclusive **\"frío o caliente\"**. Límite de entrega **16-ABR-2024 18:59:59**\n",
    "\n",
    "\n",
    "---\n",
    "*ALUMNO: Ramirez Meza Fausto Joshua*  \n",
    "\n",
    "> > > fausto.ramirez@uabc.edu.mx\n",
    "---\n",
    "\n",
    "## Codigo Python"
   ]
  },
  {
   "cell_type": "markdown",
   "metadata": {},
   "source": []
  },
  {
   "cell_type": "code",
   "execution_count": null,
   "metadata": {},
   "outputs": [],
   "source": [
    "import random  # Importa el módulo random para generar números aleatorios\n",
    "\n",
    "# Definición de códigos de color para la interfaz\n",
    "COLOR_ROJO = \"\\033[91m\"\n",
    "COLOR_VERDE = \"\\033[92m\"\n",
    "COLOR_AZUL = \"\\033[94m\"\n",
    "RESET_COLOR = \"\\033[0m\"\n",
    "\n",
    "# Función para adivinar el número\n",
    "def adivinar_numero():\n",
    "    print(\"Piensa en un número entre 1 y 100. Yo intentaré adivinarlo.\")  # Mensaje de inicio\n",
    "    input(\"Presiona Enter cuando estés listo...\")  # Espera a que el usuario esté listo\n",
    "    \n",
    "    limite_inferior = 1  # Límite inferior del rango\n",
    "    limite_superior = 100  # Límite superior del rango\n",
    "    intentos = 0  # Contador de intentos\n",
    "\n",
    "    # Bucle principal para adivinar el número\n",
    "    while True:\n",
    "        intento_maquina = random.randint(limite_inferior, limite_superior)  # Genera un número aleatorio\n",
    "        print(f\"¿Es {COLOR_ROJO}{intento_maquina}{RESET_COLOR} tu número?\")  # Muestra la conjetura\n",
    "        \n",
    "        # Pide al usuario que indique si la conjetura es alta, baja o correcta\n",
    "        respuesta = input(f\"\\n{COLOR_AZUL}Escriba con la letra (a) si es demasiado Alto, \\n (b) si es demasiado Bajo \\n (c) indica si es Correcto{RESET_COLOR}:\").lower()\n",
    "        intentos += 1  # Incrementa el contador de intentos\n",
    "        \n",
    "        # Evalúa la respuesta del usuario y ajusta los límites del rango\n",
    "        if respuesta == \"c\":  # Si la respuesta es correcta\n",
    "            print(f\"{COLOR_VERDE}¡Genial! Adiviné tu número {intento_maquina} en {intentos} intentos.{RESET_COLOR}\")  # Muestra un mensaje de éxito\n",
    "            break  # Sale del bucle\n",
    "        elif respuesta == \"a\":  # Si la conjetura es demasiado alta\n",
    "            limite_superior = intento_maquina - 1  # Ajusta el límite superior\n",
    "        elif respuesta == \"b\":  # Si la conjetura es demasiado baja\n",
    "            limite_inferior = intento_maquina + 1  # Ajusta el límite inferior\n",
    "        else:  # Si la respuesta no es válida\n",
    "            print(\"Respuesta inválida. Por favor, responde 'alto', 'bajo' o 'correcto'.\")  # Muestra un mensaje de error\n",
    "\n",
    "# Función principal\n",
    "def main():\n",
    "    adivinar_numero()  # Llama a la función para iniciar el juego\n",
    "\n",
    "# Entrada principal del programa\n",
    "if __name__ == \"__main__\":\n",
    "    main()  # Llama a la función principal si el script es ejecutado directamente"
   ]
  },
  {
   "cell_type": "markdown",
   "metadata": {},
   "source": [
    "## Conclusion ##\n",
    "----\n",
    "\n",
    "Este código es un juego para adivinar un número pensado por el usuario entre 1 y 100. El programa hace conjeturas y el usuario indica si son demasiado altas, demasiado bajas o correctas. Utiliza colores para resaltar la interfaz de usuario y un bucle while para iterar hasta que se adivine el número."
   ]
  }
 ],
 "metadata": {
  "language_info": {
   "name": "python"
  }
 },
 "nbformat": 4,
 "nbformat_minor": 2
}
